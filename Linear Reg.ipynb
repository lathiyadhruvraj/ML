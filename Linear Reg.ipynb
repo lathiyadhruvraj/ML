{
 "cells": [
  {
   "cell_type": "markdown",
   "metadata": {},
   "source": [
    "# Linear Regression"
   ]
  },
  {
   "cell_type": "code",
   "execution_count": 1,
   "metadata": {},
   "outputs": [],
   "source": [
    "import numpy as np\n",
    "import time\n",
    "\n",
    "class LinearRegression():\n",
    "    def __init__(self, alpha=0.01, n_iterations=1000):\n",
    "        self.alpha = alpha\n",
    "        self.n_iterations = n_iterations\n",
    "        self.weights = None  #Theta / slope\n",
    "        self.bais = None     #Intercept\n",
    "        \n",
    "    def fit(self, X, y):\n",
    "        \n",
    "        start = time.time()\n",
    "        \n",
    "        n_samples, n_features = X.shape       # X        --> rows = n_samples , columns = n_features \n",
    "        self.weights = np.zeros(n_features)   # weights  --> rows = n_features, columns = 1\n",
    "        self.bais = 0\n",
    "        \n",
    "        for i in range(self.n_iterations):\n",
    "            # prediction\n",
    "            y_hat = np.dot(X, self.weights) + self.bais  # y_hat --> rows = n_samples, columns = 1\n",
    "\n",
    "            # Gradient Descent for Optimization\n",
    "                            \n",
    "                                             # y_hat - y --> rows = n_samples, columns = 1\n",
    "                                             # X         --> rows = n_samples , columns = n_features\n",
    "                     # (y_hat - y).T , X ==>  1, n_features\n",
    "                     # X.T , (y_hat - y) ==>  n_features, 1 <--- we want this as our answer\n",
    "            \n",
    "            #derivative part\n",
    "            dw = (1/n_samples) * np.dot(X.T , (y_hat - y))\n",
    "            db = (1/n_samples) * np.sum(y_hat - y)\n",
    "            \n",
    "            #updating weights and bias\n",
    "            \n",
    "            self.weights -= self.alpha * dw\n",
    "            self.bais -= self.alpha * db\n",
    "        \n",
    "        end = time.time()\n",
    "        \n",
    "        print('TIME TAKEN By fit function in LinearRegression = ', end - start,'sec' )\n",
    "            \n",
    "    def predict(self, X):\n",
    "        return np.dot(X, self.weights) + self.bais \n",
    "        "
   ]
  },
  {
   "cell_type": "code",
   "execution_count": 2,
   "metadata": {},
   "outputs": [],
   "source": [
    "from sklearn.model_selection import train_test_split\n",
    "from sklearn import datasets\n",
    "\n",
    "X, y = datasets.make_regression(n_samples=10000, n_features=800, noise=25, random_state=4)\n",
    "X_train, X_test, y_train, y_test = train_test_split(X, y, test_size=0.2, random_state=32)"
   ]
  },
  {
   "cell_type": "code",
   "execution_count": 3,
   "metadata": {},
   "outputs": [
    {
     "name": "stdout",
     "output_type": "stream",
     "text": [
      "TIME TAKEN By fit function in LinearRegression =  8.943090915679932 sec\n"
     ]
    }
   ],
   "source": [
    "reg = LinearRegression()\n",
    "reg.fit(X_train, y_train)\n",
    "predicted = reg.predict(X_test)"
   ]
  },
  {
   "cell_type": "markdown",
   "metadata": {},
   "source": [
    "============================================================================================="
   ]
  },
  {
   "cell_type": "markdown",
   "metadata": {},
   "source": [
    "# Normal Equation"
   ]
  },
  {
   "cell_type": "code",
   "execution_count": 3,
   "metadata": {},
   "outputs": [],
   "source": [
    "import numpy as np\n",
    "import time\n",
    "\n",
    "class LinearReg():\n",
    "    def __init__(self):\n",
    "        self.theta = None\n",
    "        \n",
    "    def fit(self, X, y):\n",
    "        \n",
    "        start = time.time()\n",
    "        \n",
    "        n_samples, n_features = X.shape\n",
    "        x0 = np.ones((n_samples, 1), dtype='int')\n",
    "        \n",
    "        X = np.concatenate((x0, X), axis=1)\n",
    "      \n",
    "        \n",
    "        self.theta = np.linalg.inv(X.T.dot(X)).dot(X.T).dot(y)\n",
    "        \n",
    "        \n",
    "        end = time.time()\n",
    "        \n",
    "        print('TIME TAKEN By fit function in LinearRegression(Normal Equation) = ', end - start,'sec' )\n",
    "            \n",
    "    def predict(self, X_new):\n",
    "        n_sam, n_feat = X_new.shape\n",
    "        x = np.ones((n_sam, 1), dtype='int')\n",
    "        \n",
    "        X_new = np.concatenate((x, X_new), axis=1)\n",
    "        y_pred = X_new.dot(self.theta)\n",
    "        return y_pred"
   ]
  },
  {
   "cell_type": "code",
   "execution_count": 1,
   "metadata": {},
   "outputs": [],
   "source": [
    "from sklearn.model_selection import train_test_split\n",
    "from sklearn import datasets\n",
    "\n",
    "X, y = datasets.make_regression(n_samples=100000, n_features=1500, noise=25, random_state=4)\n",
    "X_train, X_test, y_train, y_test = train_test_split(X, y, test_size=0.2, random_state=32)"
   ]
  },
  {
   "cell_type": "code",
   "execution_count": 4,
   "metadata": {},
   "outputs": [
    {
     "name": "stdout",
     "output_type": "stream",
     "text": [
      "TIME TAKEN By fit function in LinearRegression(Normal Equation) =  6.9813337326049805 sec\n"
     ]
    }
   ],
   "source": [
    "reg = LinearReg()\n",
    "reg.fit(X_train, y_train)\n",
    "\n",
    "predicted = reg.predict(X_test)"
   ]
  },
  {
   "cell_type": "markdown",
   "metadata": {},
   "source": [
    "=========================================================================================================="
   ]
  },
  {
   "cell_type": "markdown",
   "metadata": {},
   "source": [
    "## What Are the Basic Assumption?(favourite)\n",
    "\n",
    "<u>There are four assumptions associated with a linear regression model:</u><br>\n",
    "\n",
    "1. Linearity: The relationship between X and the mean of Y is linear.<br>\n",
    "2. Homoscedasticity: The variance of residual is the same for any value of X.<br>\n",
    "3. Independence: Observations are independent of each other.<br>\n",
    "4. Normality: For any fixed value of X, Y is normally distributed.<br>"
   ]
  },
  {
   "cell_type": "markdown",
   "metadata": {},
   "source": [
    "<u>Advantages</u><br>\n",
    "1. Linear regression performs exceptionally well for linearly separable data<br>\n",
    "2. Easy to implement and train the model<br>\n",
    "3. It can handle overfitting using dimensionlity reduction techniques and cross validation and regularization"
   ]
  },
  {
   "cell_type": "markdown",
   "metadata": {},
   "source": [
    "<u>Disadvantages</u><br>\n",
    "1. Sometimes Lot of Feature Engineering Is required<br>\n",
    "2. If the independent features are correlated it may affect performance<br>\n",
    "3. It is often quite prone to noise and overfitting<br>\n",
    "4. Learning Rate need to be set<br>\n",
    "5. No. of Iterations need to be set"
   ]
  },
  {
   "cell_type": "markdown",
   "metadata": {},
   "source": [
    "<u>Whether Feature Scaling is required?</u><br>\n",
    "Yes<br>\n",
    "No(For Normal Equation)"
   ]
  },
  {
   "cell_type": "markdown",
   "metadata": {},
   "source": [
    "<u>Impact of Missing Values?</u><br>\n",
    "It is sensitive to missing values\n",
    "\n",
    "<u>Impact of outliers?</u><br>\n",
    "linear regression needs the relationship between the independent and dependent variables to be linear. It is also important to check for outliers since linear regression is sensitive to outlier effects."
   ]
  },
  {
   "cell_type": "code",
   "execution_count": null,
   "metadata": {},
   "outputs": [],
   "source": []
  },
  {
   "cell_type": "markdown",
   "metadata": {},
   "source": [
    "Regularization\n",
    "1. Ridge\n",
    "2. Lasso\n",
    "3. Elastic Net"
   ]
  },
  {
   "cell_type": "code",
   "execution_count": 23,
   "metadata": {},
   "outputs": [],
   "source": [
    "class Regularization():\n",
    "    def __init__(self, alpha=0.01, l1=100, l2=100, n_iterations=1000, ridge=False, lasso=False, elastic_net=False):\n",
    "        self.alpha = alpha\n",
    "        self.n_iterations = n_iterations\n",
    "        self.weights = None  #Theta / slope\n",
    "        self.bais = None     #Intercept\n",
    "        self.l1 = l1\n",
    "        self.l2 = l2\n",
    "        self.ridge = ridge\n",
    "        self.lasso = lasso\n",
    "        self.elastic_net = elastic_net\n",
    "        \n",
    "    def fit(self, X, y):\n",
    "        \n",
    "        start = time.time()\n",
    "        \n",
    "        n_samples, n_features = X.shape       \n",
    "        self.weights = np.zeros(n_features)   \n",
    "        self.bais = 0\n",
    "        \n",
    "        for i in range(self.n_iterations):\n",
    "            # prediction\n",
    "            y_hat = np.dot(X, self.weights) + self.bais  \n",
    "            \n",
    "            #derivative part\n",
    "            dw = (1/n_samples) * np.dot(X.T , (y_hat - y))\n",
    "            \n",
    "            if self.ridge or self.elastic_net:\n",
    "                dw += (self.l1 * self.weights)\n",
    "                \n",
    "            if self.lasso or self.elastic_net:\n",
    "                for w in range(len(self.weights)):\n",
    "                    if self.weights[w] >= 0:\n",
    "                        dw += self.l2\n",
    "                    else:\n",
    "                        dw -= self.l2\n",
    "        \n",
    "            db = (1/n_samples) * np.sum(y_hat - y)\n",
    "            \n",
    "            #updating weights and bias\n",
    "            \n",
    "            self.weights -= self.alpha * dw\n",
    "            self.bais -= self.alpha * db\n",
    "        \n",
    "        end = time.time()\n",
    "        \n",
    "        print('TIME TAKEN By fit function in regularization = ', end - start,'sec' )\n",
    "            \n",
    "    def predict(self, X):\n",
    "        return np.dot(X, self.weights) + self.bais "
   ]
  },
  {
   "cell_type": "code",
   "execution_count": 13,
   "metadata": {},
   "outputs": [],
   "source": [
    "from sklearn.model_selection import train_test_split\n",
    "from sklearn import datasets\n",
    "\n",
    "X, y = datasets.make_regression(n_samples=1000, n_features=100, noise=25, random_state=4)\n",
    "X_train, X_test, y_train, y_test = train_test_split(X, y, test_size=0.2, random_state=32)"
   ]
  },
  {
   "cell_type": "code",
   "execution_count": 17,
   "metadata": {},
   "outputs": [
    {
     "name": "stdout",
     "output_type": "stream",
     "text": [
      "TIME TAKEN By fit function in regularization =  0.29421091079711914 sec\n"
     ]
    }
   ],
   "source": [
    "reg = Regularization(ridge=True)\n",
    "reg.fit(X_train, y_train)\n",
    "\n",
    "predicted = reg.predict(X_test)"
   ]
  },
  {
   "cell_type": "code",
   "execution_count": 24,
   "metadata": {},
   "outputs": [
    {
     "name": "stdout",
     "output_type": "stream",
     "text": [
      "TIME TAKEN By fit function in regularization =  1.1359577178955078 sec\n"
     ]
    }
   ],
   "source": [
    "reg = Regularization(lasso=True)\n",
    "reg.fit(X_train, y_train)\n",
    "\n",
    "predicted = reg.predict(X_test)"
   ]
  },
  {
   "cell_type": "code",
   "execution_count": 25,
   "metadata": {},
   "outputs": [
    {
     "name": "stdout",
     "output_type": "stream",
     "text": [
      "TIME TAKEN By fit function in regularization =  0.9319190979003906 sec\n"
     ]
    }
   ],
   "source": [
    "reg = Regularization(elastic_net=True)\n",
    "reg.fit(X_train, y_train)\n",
    "\n",
    "predicted = reg.predict(X_test)"
   ]
  },
  {
   "cell_type": "markdown",
   "metadata": {},
   "source": [
    "<img src='regularization.png'>\n",
    "<img src='derivative of absolute func.png'>\n",
    "<img src='derivative of ridge reg.png'>"
   ]
  },
  {
   "cell_type": "code",
   "execution_count": null,
   "metadata": {},
   "outputs": [],
   "source": []
  }
 ],
 "metadata": {
  "kernelspec": {
   "display_name": "Python 3",
   "language": "python",
   "name": "python3"
  },
  "language_info": {
   "codemirror_mode": {
    "name": "ipython",
    "version": 3
   },
   "file_extension": ".py",
   "mimetype": "text/x-python",
   "name": "python",
   "nbconvert_exporter": "python",
   "pygments_lexer": "ipython3",
   "version": "3.8.3"
  },
  "toc": {
   "base_numbering": 1,
   "nav_menu": {},
   "number_sections": true,
   "sideBar": true,
   "skip_h1_title": false,
   "title_cell": "Table of Contents",
   "title_sidebar": "Contents",
   "toc_cell": false,
   "toc_position": {},
   "toc_section_display": true,
   "toc_window_display": false
  }
 },
 "nbformat": 4,
 "nbformat_minor": 4
}
